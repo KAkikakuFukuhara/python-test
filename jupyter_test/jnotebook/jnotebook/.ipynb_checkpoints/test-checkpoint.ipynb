{
 "cells": [
  {
   "cell_type": "code",
   "execution_count": 2,
   "id": "2e9e7ca8",
   "metadata": {},
   "outputs": [],
   "source": [
    "import sys\n",
    "import pprint"
   ]
  },
  {
   "cell_type": "markdown",
   "id": "ac45cfb1",
   "metadata": {},
   "source": [
    "# Test"
   ]
  },
  {
   "cell_type": "code",
   "execution_count": 3,
   "id": "8391057a",
   "metadata": {},
   "outputs": [
    {
     "name": "stdout",
     "output_type": "stream",
     "text": [
      "['/home/fukuhara/workspace/test/jupyter_test/jnotebook/jnotebook',\n",
      " '/home/fukuhara/.pyenv/versions/3.8.12/lib/python38.zip',\n",
      " '/home/fukuhara/.pyenv/versions/3.8.12/lib/python3.8',\n",
      " '/home/fukuhara/.pyenv/versions/3.8.12/lib/python3.8/lib-dynload',\n",
      " '',\n",
      " '/home/fukuhara/workspace/test/jupyter_test/jnotebook/.venv/lib/python3.8/site-packages',\n",
      " '/home/fukuhara/workspace/test/jupyter_test/jnotebook',\n",
      " '/home/fukuhara/workspace/test/jupyter_test/jnotebook/.venv/lib/python3.8/site-packages/IPython/extensions',\n",
      " '/home/fukuhara/.ipython']\n"
     ]
    }
   ],
   "source": [
    "pprint.pprint(sys.path)"
   ]
  },
  {
   "cell_type": "code",
   "execution_count": null,
   "id": "61ea8b18",
   "metadata": {},
   "outputs": [],
   "source": []
  }
 ],
 "metadata": {
  "kernelspec": {
   "display_name": "Python 3 (ipykernel)",
   "language": "python",
   "name": "python3"
  },
  "language_info": {
   "codemirror_mode": {
    "name": "ipython",
    "version": 3
   },
   "file_extension": ".py",
   "mimetype": "text/x-python",
   "name": "python",
   "nbconvert_exporter": "python",
   "pygments_lexer": "ipython3",
   "version": "3.8.12"
  }
 },
 "nbformat": 4,
 "nbformat_minor": 5
}
